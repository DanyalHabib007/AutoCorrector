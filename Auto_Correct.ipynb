{
 "cells": [
  {
   "cell_type": "code",
   "execution_count": 1,
   "id": "503b95b0",
   "metadata": {},
   "outputs": [
    {
     "name": "stdout",
     "output_type": "stream",
     "text": [
      "Collecting spello\n",
      "  Downloading spello-1.3.0-py3-none-any.whl (25 kB)\n",
      "Requirement already satisfied: nltk<4,>=3.4.5 in d:\\anaconda\\lib\\site-packages (from spello) (3.7)\n",
      "Requirement already satisfied: click in d:\\anaconda\\lib\\site-packages (from nltk<4,>=3.4.5->spello) (8.0.4)\n",
      "Requirement already satisfied: regex>=2021.8.3 in d:\\anaconda\\lib\\site-packages (from nltk<4,>=3.4.5->spello) (2022.7.9)\n",
      "Requirement already satisfied: tqdm in d:\\anaconda\\lib\\site-packages (from nltk<4,>=3.4.5->spello) (4.64.1)\n",
      "Requirement already satisfied: joblib in d:\\anaconda\\lib\\site-packages (from nltk<4,>=3.4.5->spello) (1.1.1)\n",
      "Requirement already satisfied: colorama in d:\\anaconda\\lib\\site-packages (from click->nltk<4,>=3.4.5->spello) (0.4.6)\n",
      "Installing collected packages: spello\n",
      "Successfully installed spello-1.3.0\n"
     ]
    }
   ],
   "source": [
    "!pip install spello"
   ]
  },
  {
   "cell_type": "code",
   "execution_count": 2,
   "id": "77e41543",
   "metadata": {},
   "outputs": [],
   "source": [
    "from spello.model import SpellCorrectionModel"
   ]
  },
  {
   "cell_type": "code",
   "execution_count": 4,
   "id": "f3641340",
   "metadata": {},
   "outputs": [],
   "source": [
    "model_1 = SpellCorrectionModel(language=\"en\")"
   ]
  },
  {
   "cell_type": "code",
   "execution_count": 5,
   "id": "3fd69b4d",
   "metadata": {},
   "outputs": [],
   "source": [
    "with open (\"words.txt\") as file:\n",
    "    dataf = file.readlines()\n",
    "\n",
    "dataf = [i.strip() for i in dataf]"
   ]
  },
  {
   "cell_type": "code",
   "execution_count": 7,
   "id": "1182b284",
   "metadata": {},
   "outputs": [
    {
     "name": "stdout",
     "output_type": "stream",
     "text": [
      "Spello training started..\n",
      "Context model training started ...\n",
      "Symspell training started ...\n",
      "Phoneme training started ...\n",
      "Spello training completed successfully ...\n"
     ]
    }
   ],
   "source": [
    "model_1.train(dataf)"
   ]
  },
  {
   "cell_type": "code",
   "execution_count": 8,
   "id": "f6cae7ac",
   "metadata": {},
   "outputs": [
    {
     "data": {
      "text/plain": [
       "'.\\\\model.pkl'"
      ]
     },
     "execution_count": 8,
     "metadata": {},
     "output_type": "execute_result"
    }
   ],
   "source": [
    "model_1.save(\"\")"
   ]
  },
  {
   "cell_type": "code",
   "execution_count": 9,
   "id": "83d6e4f0",
   "metadata": {},
   "outputs": [
    {
     "data": {
      "text/plain": [
       "<spello.model.SpellCorrectionModel at 0x217df0fcd90>"
      ]
     },
     "execution_count": 9,
     "metadata": {},
     "output_type": "execute_result"
    }
   ],
   "source": [
    "model_1.load(\"model.pkl\")"
   ]
  },
  {
   "cell_type": "code",
   "execution_count": 15,
   "id": "e81260b7",
   "metadata": {},
   "outputs": [
    {
     "name": "stdout",
     "output_type": "stream",
     "text": [
      "Enter the sentence/word : Heelo\n"
     ]
    }
   ],
   "source": [
    "lines = input(\"Enter the sentence/word : \")"
   ]
  },
  {
   "cell_type": "code",
   "execution_count": 16,
   "id": "e501b381",
   "metadata": {},
   "outputs": [],
   "source": [
    "words = lines.split()"
   ]
  },
  {
   "cell_type": "code",
   "execution_count": 17,
   "id": "0a3ef2ef",
   "metadata": {},
   "outputs": [],
   "source": [
    "correct_words = []\n",
    "for word in words:\n",
    "    corrected = model_1.spell_correct(word)\n",
    "    correct_words.append(corrected['spell_corrected_text'])\n",
    "    \n",
    "corrected_sentence = \" \".join(correct_words)"
   ]
  },
  {
   "cell_type": "code",
   "execution_count": 18,
   "id": "4b2f42b7",
   "metadata": {},
   "outputs": [
    {
     "name": "stdout",
     "output_type": "stream",
     "text": [
      "Corrected Sentence :  hello\n"
     ]
    }
   ],
   "source": [
    "print(\"Corrected Sentence : \",corrected_sentence)"
   ]
  },
  {
   "cell_type": "code",
   "execution_count": null,
   "id": "badc92ff",
   "metadata": {},
   "outputs": [],
   "source": []
  }
 ],
 "metadata": {
  "kernelspec": {
   "display_name": "Python 3 (ipykernel)",
   "language": "python",
   "name": "python3"
  },
  "language_info": {
   "codemirror_mode": {
    "name": "ipython",
    "version": 3
   },
   "file_extension": ".py",
   "mimetype": "text/x-python",
   "name": "python",
   "nbconvert_exporter": "python",
   "pygments_lexer": "ipython3",
   "version": "3.9.16"
  }
 },
 "nbformat": 4,
 "nbformat_minor": 5
}
